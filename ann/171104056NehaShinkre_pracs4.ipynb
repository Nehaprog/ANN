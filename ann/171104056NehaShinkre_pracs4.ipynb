{
  "nbformat": 4,
  "nbformat_minor": 0,
  "metadata": {
    "colab": {
      "name": "171104056NehaShinkre_pracs4.ipynb",
      "provenance": [],
      "collapsed_sections": []
    },
    "kernelspec": {
      "name": "python3",
      "display_name": "Python 3"
    }
  },
  "cells": [
    {
      "cell_type": "code",
      "metadata": {
        "id": "XFI8_cUse7z4",
        "outputId": "05e1e9c6-5ed7-45ef-837e-36ee8a5f1e81",
        "colab": {
          "base_uri": "https://localhost:8080/",
          "height": 50
        }
      },
      "source": [
        "##XOR\n",
        "import numpy as np\n",
        "x=np.random.choice([0,1],size=3)                                #to get input vector( 2 input)\n",
        "x[2]=-1\n",
        "print(\"XOR... INPUT IS\",x)\n",
        "w1=np.array([-2,1,0.5])\n",
        "w2=np.array([1,-1,0.5])\n",
        "w3=np.array([1,1,0.5])\n",
        "\n",
        "def cal(x,w):\n",
        "  op1=x*w\n",
        "  i=0\n",
        "  y=0\n",
        "  while i!=len(op1):\n",
        "    y=y+op1[i]\n",
        "    i=i+1\n",
        "  if y>=0:\n",
        "    o1=1\n",
        "  else:\n",
        "    o1=0\n",
        "  return o1  \n",
        "\n",
        "\n",
        "o1=cal(x,w1)\n",
        "o2=cal(x,w2)\n",
        "final=np.array([o1,o2,-1])\n",
        "o3=cal(final,w3)\n",
        "print(\"output\",o3)"
      ],
      "execution_count": null,
      "outputs": [
        {
          "output_type": "stream",
          "text": [
            "XOR... INPUT IS [ 1  1 -1]\n",
            "output 0\n"
          ],
          "name": "stdout"
        }
      ]
    },
    {
      "cell_type": "code",
      "metadata": {
        "id": "Wf5dOhN0fHsW",
        "outputId": "0a51f975-e747-4807-ce11-f6ef25492850",
        "colab": {
          "base_uri": "https://localhost:8080/",
          "height": 101
        }
      },
      "source": [
        "##and or\n",
        "def cal(x,w):\n",
        "  op1=x*w\n",
        "  i=0\n",
        "  y=0\n",
        "  while i!=len(op1):\n",
        "    y=y+op1[i]\n",
        "    i=i+1\n",
        "  if y>=2:\n",
        "    o1=1\n",
        "  else:\n",
        "    o1=0\n",
        "  return o1 \n",
        "def cal2(x,w):\n",
        "  op1=x*w\n",
        "  i=0\n",
        "  y=0\n",
        "  while i!=len(op1):\n",
        "    y=y+op1[i]\n",
        "    i=i+1\n",
        "  if y>=1:\n",
        "    o1=1\n",
        "  else:\n",
        "    o1=0\n",
        "  return o1   \n",
        "\n",
        "def cal3(x,w):\n",
        "  a=x*(w)\n",
        "  i=0\n",
        "  while i!=len(a):  \n",
        "   if a[i]>=0:\n",
        "    y=1\n",
        "   else:\n",
        "    y=0  \n",
        "   i=i+1\n",
        "   return y \n",
        "x=np.random.choice([0,1],size=2)      #to get input vector( 2 input)\n",
        "w=np.array([1,1])   \n",
        "o1=cal(x,w) \n",
        "o2=cal2(x,w)\n",
        "x1=np.random.choice([0,1],size=1)     #input vector (1 input)\n",
        "w1=np.array([-1])\n",
        "o3=cal3(x1,w1)  \n",
        "o4=cal3(cal(x,w),w1)\n",
        "o5=cal3(o2,w1)\n",
        "print(\"AND ...input is\",x,\"output is\",o1) \n",
        "print(\"OR ...input is\",x,\"output is\",o2) \n",
        "print(\"NOT ...input is\",x1,\"output is\",o3) \n",
        "print(\"NAND ...input is\",x,\"output is\",o4) \n",
        "print(\"NOR ...input is\",x,\"output is\",o5) "
      ],
      "execution_count": null,
      "outputs": [
        {
          "output_type": "stream",
          "text": [
            "AND ...input is [0 1] output is 0\n",
            "OR ...input is [0 1] output is 1\n",
            "NOT ...input is [1] output is 0\n",
            "NAND ...input is [0 1] output is 1\n",
            "NOR ...input is [0 1] output is 0\n"
          ],
          "name": "stdout"
        }
      ]
    },
    {
      "cell_type": "code",
      "metadata": {
        "id": "LEw31fi3g6vE"
      },
      "source": [
        "\n"
      ],
      "execution_count": null,
      "outputs": []
    }
  ]
}