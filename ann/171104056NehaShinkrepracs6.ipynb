{
  "nbformat": 4,
  "nbformat_minor": 0,
  "metadata": {
    "colab": {
      "name": "171104056NehaShinkrepracs6.ipynb",
      "provenance": [],
      "collapsed_sections": []
    },
    "kernelspec": {
      "name": "python3",
      "display_name": "Python 3"
    }
  },
  "cells": [
    {
      "cell_type": "code",
      "metadata": {
        "id": "yj1D66mQOa1_"
      },
      "source": [
        "#perceptron learning rule"
      ],
      "execution_count": null,
      "outputs": []
    },
    {
      "cell_type": "code",
      "metadata": {
        "id": "zuztkz5gPuhm"
      },
      "source": [
        "import numpy as np\n",
        "w=np.array([1,-1,0,0.5])\n",
        "x1=np.array([1,-2,0,-1])\n",
        "x2=np.array([0,1.5,-0.5,-1])\n",
        "x3=np.array([-1,1,0.5,-1])\n"
      ],
      "execution_count": 1,
      "outputs": []
    },
    {
      "cell_type": "code",
      "metadata": {
        "id": "_Zp8uI3nQFbD"
      },
      "source": [
        "def cal(x,w):\n",
        "  op1=x*w\n",
        "  i=0\n",
        "  y=0\n",
        "  while i!=len(op1):\n",
        "    y=y+op1[i]\n",
        "    i=i+1\n",
        "  if y>=0:\n",
        "    o1=1\n",
        "  else:\n",
        "    o1=-1\n",
        "  return o1  \n",
        "\n",
        "def perceptron(w,x,c,d):\n",
        "    op=(d-cal(x,w))\n",
        "    a=c*op*x      \n",
        "    w=w+a\n",
        "    print(w)\n",
        "    return w  "
      ],
      "execution_count": 4,
      "outputs": []
    },
    {
      "cell_type": "code",
      "metadata": {
        "id": "sFkizHw1QUPI",
        "outputId": "91b3637a-d9c5-496b-c6d1-695b57f700cc",
        "colab": {
          "base_uri": "https://localhost:8080/",
          "height": 84
        }
      },
      "source": [
        "print(\"w2,w3,w4 are as follows:\")\n",
        "c=0.1\n",
        "w2=perceptron(w,x1,c,-1)\n",
        "w3=perceptron(w2,x2,c,-1)\n",
        "w4=perceptron(w3,x3,c,1)\n",
        "\n"
      ],
      "execution_count": 5,
      "outputs": [
        {
          "output_type": "stream",
          "text": [
            "w2,w3,w4 are as follows:\n",
            "[ 0.8 -0.6  0.   0.7]\n",
            "[ 0.8 -0.6  0.   0.7]\n",
            "[ 0.6 -0.4  0.1  0.5]\n"
          ],
          "name": "stdout"
        }
      ]
    }
  ]
}