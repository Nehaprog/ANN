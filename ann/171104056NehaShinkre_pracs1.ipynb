{
  "nbformat": 4,
  "nbformat_minor": 0,
  "metadata": {
    "colab": {
      "name": "171104056NehaShinkre_pracs1.ipynb",
      "provenance": [],
      "collapsed_sections": []
    },
    "kernelspec": {
      "name": "python3",
      "display_name": "Python 3"
    }
  },
  "cells": [
    {
      "cell_type": "code",
      "metadata": {
        "id": "ISrCq0CpLWIf",
        "outputId": "0624ce06-026a-409e-e125-f7427b3b89b4",
        "colab": {
          "base_uri": "https://localhost:8080/"
        }
      },
      "source": [
        "# **Exercise 1: Test your knowledge now to write the following code.**\n",
        "# data = 5649\n",
        "# write a \"while loop\" to print data variable in reverse order\n",
        "\n",
        "data=5649\n",
        "r = 0\n",
        "while(data>0):\n",
        "   n=data%10\n",
        "   r=r*10+n  \n",
        "   data=data//10  ###floor div\n",
        "print(\"rev\",r) "
      ],
      "execution_count": null,
      "outputs": [
        {
          "output_type": "stream",
          "text": [
            "rev 9465\n"
          ],
          "name": "stdout"
        }
      ]
    },
    {
      "cell_type": "code",
      "metadata": {
        "id": "Wbypl3diMP4-",
        "outputId": "dfaaacb5-7b40-43e1-d485-3476a2b49c27",
        "colab": {
          "base_uri": "https://localhost:8080/"
        }
      },
      "source": [
        "# **Exercise 2: write a print statement to get following result.** \n",
        "# name: <any name>        roll no: <roll no>        GATE rank: <rank>       percentile: <percentile> \n",
        "name=input(\"name \")\n",
        "rollno=input(\"no\")\n",
        "rollno=int(rollno)\n",
        "gaterank=int(input(\"gate rank\"))\n",
        "percentile=int(input(\"percentile\"))\n",
        "print(name ,rollno ,gaterank ,percentile)\n"
      ],
      "execution_count": null,
      "outputs": [
        {
          "output_type": "stream",
          "text": [
            "name tom\n",
            "no123\n",
            "gate rank12345\n",
            "percentile77\n",
            "tom 123 12345 77\n"
          ],
          "name": "stdout"
        }
      ]
    },
    {
      "cell_type": "code",
      "metadata": {
        "id": "Ffz-W2IcNGsv",
        "outputId": "d42ae040-875f-4778-85a9-41fd44e474a2",
        "colab": {
          "base_uri": "https://localhost:8080/"
        }
      },
      "source": [
        "# **Exercise 3: Now test your understanding!\n",
        "\n",
        "# We have a list of players as follows.\n",
        "# \n",
        "# players = ['abc, 'de', 'efg', 'ijk', 'lmn', 'op', 'qq', 'rr']\n",
        "# \n",
        "# **abc, lmn, qq, rr reached the semifinal of the tournament. \n",
        "# **Print the updated players list. \n",
        "\n",
        "players = ['abc', 'de', 'efg', 'ijk', 'lmn', 'op', 'qq', 'rr']\n",
        " \n",
        "unwanted_num = {'de','efg','ijk','op'} \n",
        "wanted={'abc', 'lmn', 'qq', 'rr'}\n",
        "  \n",
        "players = [ele for ele in players if ele  in wanted] \n",
        "  \n",
        "# printing modified list \n",
        "print(\"New list : \", players) "
      ],
      "execution_count": null,
      "outputs": [
        {
          "output_type": "stream",
          "text": [
            "New list :  ['abc', 'lmn', 'qq', 'rr']\n"
          ],
          "name": "stdout"
        }
      ]
    },
    {
      "cell_type": "code",
      "metadata": {
        "id": "BjQ9XZpLNqyY",
        "outputId": "b3f6c1d5-3bbd-402f-eec4-a70ca79c7045",
        "colab": {
          "base_uri": "https://localhost:8080/",
          "height": 84
        }
      },
      "source": [
        "# **Exercise 4: Write a simple program to print the first letter of your name using only asterisk '\\' ( as you might have done while learning loops in 'C' language programs) **\n",
        "i=1\n",
        "k=1\n",
        "while i!=5:\n",
        "      j=1\n",
        "      print(\"*\",end='')\n",
        "      \n",
        "     \n",
        "      while i>j:\n",
        "        print(\" \",end='')    #no new line\n",
        "        j=j+1\n",
        "      print(\"*\",end='')\n",
        "      while k!=4:\n",
        "        print(\" \",end='')\n",
        "        k=k+1\n",
        "      print(\"*\")  \n",
        "      \n",
        "      i=i+1\n",
        "      k=i\n"
      ],
      "execution_count": 13,
      "outputs": [
        {
          "output_type": "stream",
          "text": [
            "**   *\n",
            "* *  *\n",
            "*  * *\n",
            "*   **\n"
          ],
          "name": "stdout"
        }
      ]
    },
    {
      "cell_type": "code",
      "metadata": {
        "id": "lttCc3pjN7VY",
        "outputId": "d43b778c-d6cd-4864-9039-728f79132148",
        "colab": {
          "base_uri": "https://localhost:8080/"
        }
      },
      "source": [
        "# **Exercise 5: **\n",
        "# \n",
        "# (i) Generate two arrays A1 and A2 of size 5 X 4 and 3 X 4 respectively using np.random()\n",
        "# \n",
        "# (ii) Join them and make an array A3 of 8 X 4. Now append random numbers ranging between from 0 to 5 to make the fourth array A4 of size 10 X 10. \n",
        "# \n",
        "# (iii) Print all the arrays and their transpose ( Transpose of 'A' can be obtained by 'A.T')\n",
        "import numpy as np\n",
        "A1=np.random.random((5,4))\n",
        "print(\"A1\",A1)\n",
        "A2=np.random.random((3,4))\n",
        "print(\"A2\",A2)\n",
        "A3=np.concatenate((A1,A2),axis=0) #columwise\n",
        "print(\"A3\",A3)\n",
        "A4=np.resize(A3,(10,10))\n",
        "print(\"A4\",A4)\n",
        "print(\"a4 transpose\",A4.T)"
      ],
      "execution_count": null,
      "outputs": [
        {
          "output_type": "stream",
          "text": [
            "A1 [[0.58625525 0.82769949 0.12078268 0.49417794]\n",
            " [0.38417704 0.439144   0.33991565 0.88914867]\n",
            " [0.30650901 0.47371291 0.8028092  0.42947336]\n",
            " [0.82060441 0.29794053 0.72034807 0.01599313]\n",
            " [0.17341776 0.36956988 0.22000496 0.51831007]]\n",
            "A2 [[0.18194427 0.47618116 0.01072638 0.84616467]\n",
            " [0.68494833 0.07362823 0.65679263 0.89452308]\n",
            " [0.3588114  0.73921793 0.27529111 0.89965895]]\n",
            "A3 [[0.58625525 0.82769949 0.12078268 0.49417794]\n",
            " [0.38417704 0.439144   0.33991565 0.88914867]\n",
            " [0.30650901 0.47371291 0.8028092  0.42947336]\n",
            " [0.82060441 0.29794053 0.72034807 0.01599313]\n",
            " [0.17341776 0.36956988 0.22000496 0.51831007]\n",
            " [0.18194427 0.47618116 0.01072638 0.84616467]\n",
            " [0.68494833 0.07362823 0.65679263 0.89452308]\n",
            " [0.3588114  0.73921793 0.27529111 0.89965895]]\n",
            "A4 [[0.58625525 0.82769949 0.12078268 0.49417794 0.38417704 0.439144\n",
            "  0.33991565 0.88914867 0.30650901 0.47371291]\n",
            " [0.8028092  0.42947336 0.82060441 0.29794053 0.72034807 0.01599313\n",
            "  0.17341776 0.36956988 0.22000496 0.51831007]\n",
            " [0.18194427 0.47618116 0.01072638 0.84616467 0.68494833 0.07362823\n",
            "  0.65679263 0.89452308 0.3588114  0.73921793]\n",
            " [0.27529111 0.89965895 0.58625525 0.82769949 0.12078268 0.49417794\n",
            "  0.38417704 0.439144   0.33991565 0.88914867]\n",
            " [0.30650901 0.47371291 0.8028092  0.42947336 0.82060441 0.29794053\n",
            "  0.72034807 0.01599313 0.17341776 0.36956988]\n",
            " [0.22000496 0.51831007 0.18194427 0.47618116 0.01072638 0.84616467\n",
            "  0.68494833 0.07362823 0.65679263 0.89452308]\n",
            " [0.3588114  0.73921793 0.27529111 0.89965895 0.58625525 0.82769949\n",
            "  0.12078268 0.49417794 0.38417704 0.439144  ]\n",
            " [0.33991565 0.88914867 0.30650901 0.47371291 0.8028092  0.42947336\n",
            "  0.82060441 0.29794053 0.72034807 0.01599313]\n",
            " [0.17341776 0.36956988 0.22000496 0.51831007 0.18194427 0.47618116\n",
            "  0.01072638 0.84616467 0.68494833 0.07362823]\n",
            " [0.65679263 0.89452308 0.3588114  0.73921793 0.27529111 0.89965895\n",
            "  0.58625525 0.82769949 0.12078268 0.49417794]]\n",
            "a4 transpose [[0.58625525 0.8028092  0.18194427 0.27529111 0.30650901 0.22000496\n",
            "  0.3588114  0.33991565 0.17341776 0.65679263]\n",
            " [0.82769949 0.42947336 0.47618116 0.89965895 0.47371291 0.51831007\n",
            "  0.73921793 0.88914867 0.36956988 0.89452308]\n",
            " [0.12078268 0.82060441 0.01072638 0.58625525 0.8028092  0.18194427\n",
            "  0.27529111 0.30650901 0.22000496 0.3588114 ]\n",
            " [0.49417794 0.29794053 0.84616467 0.82769949 0.42947336 0.47618116\n",
            "  0.89965895 0.47371291 0.51831007 0.73921793]\n",
            " [0.38417704 0.72034807 0.68494833 0.12078268 0.82060441 0.01072638\n",
            "  0.58625525 0.8028092  0.18194427 0.27529111]\n",
            " [0.439144   0.01599313 0.07362823 0.49417794 0.29794053 0.84616467\n",
            "  0.82769949 0.42947336 0.47618116 0.89965895]\n",
            " [0.33991565 0.17341776 0.65679263 0.38417704 0.72034807 0.68494833\n",
            "  0.12078268 0.82060441 0.01072638 0.58625525]\n",
            " [0.88914867 0.36956988 0.89452308 0.439144   0.01599313 0.07362823\n",
            "  0.49417794 0.29794053 0.84616467 0.82769949]\n",
            " [0.30650901 0.22000496 0.3588114  0.33991565 0.17341776 0.65679263\n",
            "  0.38417704 0.72034807 0.68494833 0.12078268]\n",
            " [0.47371291 0.51831007 0.73921793 0.88914867 0.36956988 0.89452308\n",
            "  0.439144   0.01599313 0.07362823 0.49417794]]\n"
          ],
          "name": "stdout"
        }
      ]
    },
    {
      "cell_type": "code",
      "metadata": {
        "id": "dwk9qhsfPLc3",
        "outputId": "8be4cdb3-a45d-44f3-de41-80a08de699fc",
        "colab": {
          "base_uri": "https://localhost:8080/",
          "height": 728
        }
      },
      "source": [
        "# **Exercise 6: Create two dictionaries. ** \n",
        "# \n",
        "# The first dictionary 'name' will contain first name(key) of a person and its hash value(value). \n",
        "# The Second will contain hash value(key) and mobile no(value).\n",
        "# i) Add 5 entries \n",
        "# ii) Delete two entries by taking the input from user as the first name.\n",
        "# ii) Add two entries by taking the input as the first name and mobile no. \n",
        "dictionary1=[\n",
        "             {\n",
        "                 'name':\"tom\",\n",
        "                 'key':1\n",
        "             },\n",
        "             {\n",
        "                 'name':\"sam\",\n",
        "                 'key':2\n",
        "             },\n",
        "]\n",
        "\n",
        "dictionary2=[\n",
        "             {\n",
        "                'key':1,\n",
        "                'num':123\n",
        "             },\n",
        "             {\n",
        "                 'key':1,\n",
        "                 'num':456\n",
        "             },\n",
        "]\n",
        "temp=0\n",
        "while temp==0:\n",
        "  length =dictionary1.__len__()\n",
        "  ip=  input('To Add,delete,display enter A,D,B respectively')\n",
        "  if (ip=='A'):\n",
        "    name=input(\"Enter name\")\n",
        "    number=input(\"Enter number\")\n",
        "    key1=dictionary1[length-1]['key']+1\n",
        "    new1={'name':name,'key':key1}\n",
        "    new2={'key':key1,'num':number}\n",
        "    dictionary1.append(new1)\n",
        "    dictionary2.append(new2)\n",
        "  elif (ip=='D'):\n",
        "     name1=input(\"Enter name\")\n",
        "     i=0\n",
        "     while i<length:\n",
        "      if (dictionary1[i]['name']==name1):\n",
        "        dictionary1.pop[i]\n",
        "        dictionary2.pop[i]\n",
        "        i=i+1\n",
        "  elif (ip=='B'):\n",
        "     i=0\n",
        "     while i<length:\n",
        "       print(dictionary1[i]['name'])\n",
        "       print(dictionary2[i]['num'])     \n",
        "       i=i+1\n",
        "  else:\n",
        "   print(\"invalid\")\n",
        "\n",
        "\n"
      ],
      "execution_count": 35,
      "outputs": [
        {
          "output_type": "stream",
          "text": [
            "To Add,delete,display enter A,D,B respectivelyA\n",
            "Enter nameniti\n",
            "Enter number789\n",
            "To Add,delete,display enter A,D,B respectivelyB\n",
            "tom\n",
            "123\n",
            "sam\n",
            "456\n",
            "niti\n",
            "789\n"
          ],
          "name": "stdout"
        },
        {
          "output_type": "error",
          "ename": "KeyboardInterrupt",
          "evalue": "ignored",
          "traceback": [
            "\u001b[0;31m---------------------------------------------------------------------------\u001b[0m",
            "\u001b[0;31mKeyboardInterrupt\u001b[0m                         Traceback (most recent call last)",
            "\u001b[0;32m/usr/local/lib/python3.6/dist-packages/ipykernel/kernelbase.py\u001b[0m in \u001b[0;36m_input_request\u001b[0;34m(self, prompt, ident, parent, password)\u001b[0m\n\u001b[1;32m    728\u001b[0m             \u001b[0;32mtry\u001b[0m\u001b[0;34m:\u001b[0m\u001b[0;34m\u001b[0m\u001b[0;34m\u001b[0m\u001b[0m\n\u001b[0;32m--> 729\u001b[0;31m                 \u001b[0mident\u001b[0m\u001b[0;34m,\u001b[0m \u001b[0mreply\u001b[0m \u001b[0;34m=\u001b[0m \u001b[0mself\u001b[0m\u001b[0;34m.\u001b[0m\u001b[0msession\u001b[0m\u001b[0;34m.\u001b[0m\u001b[0mrecv\u001b[0m\u001b[0;34m(\u001b[0m\u001b[0mself\u001b[0m\u001b[0;34m.\u001b[0m\u001b[0mstdin_socket\u001b[0m\u001b[0;34m,\u001b[0m \u001b[0;36m0\u001b[0m\u001b[0;34m)\u001b[0m\u001b[0;34m\u001b[0m\u001b[0;34m\u001b[0m\u001b[0m\n\u001b[0m\u001b[1;32m    730\u001b[0m             \u001b[0;32mexcept\u001b[0m \u001b[0mException\u001b[0m\u001b[0;34m:\u001b[0m\u001b[0;34m\u001b[0m\u001b[0;34m\u001b[0m\u001b[0m\n",
            "\u001b[0;32m/usr/local/lib/python3.6/dist-packages/jupyter_client/session.py\u001b[0m in \u001b[0;36mrecv\u001b[0;34m(self, socket, mode, content, copy)\u001b[0m\n\u001b[1;32m    802\u001b[0m         \u001b[0;32mtry\u001b[0m\u001b[0;34m:\u001b[0m\u001b[0;34m\u001b[0m\u001b[0;34m\u001b[0m\u001b[0m\n\u001b[0;32m--> 803\u001b[0;31m             \u001b[0mmsg_list\u001b[0m \u001b[0;34m=\u001b[0m \u001b[0msocket\u001b[0m\u001b[0;34m.\u001b[0m\u001b[0mrecv_multipart\u001b[0m\u001b[0;34m(\u001b[0m\u001b[0mmode\u001b[0m\u001b[0;34m,\u001b[0m \u001b[0mcopy\u001b[0m\u001b[0;34m=\u001b[0m\u001b[0mcopy\u001b[0m\u001b[0;34m)\u001b[0m\u001b[0;34m\u001b[0m\u001b[0;34m\u001b[0m\u001b[0m\n\u001b[0m\u001b[1;32m    804\u001b[0m         \u001b[0;32mexcept\u001b[0m \u001b[0mzmq\u001b[0m\u001b[0;34m.\u001b[0m\u001b[0mZMQError\u001b[0m \u001b[0;32mas\u001b[0m \u001b[0me\u001b[0m\u001b[0;34m:\u001b[0m\u001b[0;34m\u001b[0m\u001b[0;34m\u001b[0m\u001b[0m\n",
            "\u001b[0;32m/usr/local/lib/python3.6/dist-packages/zmq/sugar/socket.py\u001b[0m in \u001b[0;36mrecv_multipart\u001b[0;34m(self, flags, copy, track)\u001b[0m\n\u001b[1;32m    490\u001b[0m         \"\"\"\n\u001b[0;32m--> 491\u001b[0;31m         \u001b[0mparts\u001b[0m \u001b[0;34m=\u001b[0m \u001b[0;34m[\u001b[0m\u001b[0mself\u001b[0m\u001b[0;34m.\u001b[0m\u001b[0mrecv\u001b[0m\u001b[0;34m(\u001b[0m\u001b[0mflags\u001b[0m\u001b[0;34m,\u001b[0m \u001b[0mcopy\u001b[0m\u001b[0;34m=\u001b[0m\u001b[0mcopy\u001b[0m\u001b[0;34m,\u001b[0m \u001b[0mtrack\u001b[0m\u001b[0;34m=\u001b[0m\u001b[0mtrack\u001b[0m\u001b[0;34m)\u001b[0m\u001b[0;34m]\u001b[0m\u001b[0;34m\u001b[0m\u001b[0;34m\u001b[0m\u001b[0m\n\u001b[0m\u001b[1;32m    492\u001b[0m         \u001b[0;31m# have first part already, only loop while more to receive\u001b[0m\u001b[0;34m\u001b[0m\u001b[0;34m\u001b[0m\u001b[0;34m\u001b[0m\u001b[0m\n",
            "\u001b[0;32mzmq/backend/cython/socket.pyx\u001b[0m in \u001b[0;36mzmq.backend.cython.socket.Socket.recv\u001b[0;34m()\u001b[0m\n",
            "\u001b[0;32mzmq/backend/cython/socket.pyx\u001b[0m in \u001b[0;36mzmq.backend.cython.socket.Socket.recv\u001b[0;34m()\u001b[0m\n",
            "\u001b[0;32mzmq/backend/cython/socket.pyx\u001b[0m in \u001b[0;36mzmq.backend.cython.socket._recv_copy\u001b[0;34m()\u001b[0m\n",
            "\u001b[0;32m/usr/local/lib/python3.6/dist-packages/zmq/backend/cython/checkrc.pxd\u001b[0m in \u001b[0;36mzmq.backend.cython.checkrc._check_rc\u001b[0;34m()\u001b[0m\n",
            "\u001b[0;31mKeyboardInterrupt\u001b[0m: ",
            "\nDuring handling of the above exception, another exception occurred:\n",
            "\u001b[0;31mKeyboardInterrupt\u001b[0m                         Traceback (most recent call last)",
            "\u001b[0;32m<ipython-input-35-4fddac56ba44>\u001b[0m in \u001b[0;36m<module>\u001b[0;34m()\u001b[0m\n\u001b[1;32m     30\u001b[0m \u001b[0;32mwhile\u001b[0m \u001b[0mtemp\u001b[0m\u001b[0;34m==\u001b[0m\u001b[0;36m0\u001b[0m\u001b[0;34m:\u001b[0m\u001b[0;34m\u001b[0m\u001b[0;34m\u001b[0m\u001b[0m\n\u001b[1;32m     31\u001b[0m   \u001b[0mlength\u001b[0m \u001b[0;34m=\u001b[0m\u001b[0mdictionary1\u001b[0m\u001b[0;34m.\u001b[0m\u001b[0m__len__\u001b[0m\u001b[0;34m(\u001b[0m\u001b[0;34m)\u001b[0m\u001b[0;34m\u001b[0m\u001b[0;34m\u001b[0m\u001b[0m\n\u001b[0;32m---> 32\u001b[0;31m   \u001b[0mip\u001b[0m\u001b[0;34m=\u001b[0m  \u001b[0minput\u001b[0m\u001b[0;34m(\u001b[0m\u001b[0;34m'To Add,delete,display enter A,D,B respectively'\u001b[0m\u001b[0;34m)\u001b[0m\u001b[0;34m\u001b[0m\u001b[0;34m\u001b[0m\u001b[0m\n\u001b[0m\u001b[1;32m     33\u001b[0m   \u001b[0;32mif\u001b[0m \u001b[0;34m(\u001b[0m\u001b[0mip\u001b[0m\u001b[0;34m==\u001b[0m\u001b[0;34m'A'\u001b[0m\u001b[0;34m)\u001b[0m\u001b[0;34m:\u001b[0m\u001b[0;34m\u001b[0m\u001b[0;34m\u001b[0m\u001b[0m\n\u001b[1;32m     34\u001b[0m     \u001b[0mname\u001b[0m\u001b[0;34m=\u001b[0m\u001b[0minput\u001b[0m\u001b[0;34m(\u001b[0m\u001b[0;34m\"Enter name\"\u001b[0m\u001b[0;34m)\u001b[0m\u001b[0;34m\u001b[0m\u001b[0;34m\u001b[0m\u001b[0m\n",
            "\u001b[0;32m/usr/local/lib/python3.6/dist-packages/ipykernel/kernelbase.py\u001b[0m in \u001b[0;36mraw_input\u001b[0;34m(self, prompt)\u001b[0m\n\u001b[1;32m    702\u001b[0m             \u001b[0mself\u001b[0m\u001b[0;34m.\u001b[0m\u001b[0m_parent_ident\u001b[0m\u001b[0;34m,\u001b[0m\u001b[0;34m\u001b[0m\u001b[0;34m\u001b[0m\u001b[0m\n\u001b[1;32m    703\u001b[0m             \u001b[0mself\u001b[0m\u001b[0;34m.\u001b[0m\u001b[0m_parent_header\u001b[0m\u001b[0;34m,\u001b[0m\u001b[0;34m\u001b[0m\u001b[0;34m\u001b[0m\u001b[0m\n\u001b[0;32m--> 704\u001b[0;31m             \u001b[0mpassword\u001b[0m\u001b[0;34m=\u001b[0m\u001b[0;32mFalse\u001b[0m\u001b[0;34m,\u001b[0m\u001b[0;34m\u001b[0m\u001b[0;34m\u001b[0m\u001b[0m\n\u001b[0m\u001b[1;32m    705\u001b[0m         )\n\u001b[1;32m    706\u001b[0m \u001b[0;34m\u001b[0m\u001b[0m\n",
            "\u001b[0;32m/usr/local/lib/python3.6/dist-packages/ipykernel/kernelbase.py\u001b[0m in \u001b[0;36m_input_request\u001b[0;34m(self, prompt, ident, parent, password)\u001b[0m\n\u001b[1;32m    732\u001b[0m             \u001b[0;32mexcept\u001b[0m \u001b[0mKeyboardInterrupt\u001b[0m\u001b[0;34m:\u001b[0m\u001b[0;34m\u001b[0m\u001b[0;34m\u001b[0m\u001b[0m\n\u001b[1;32m    733\u001b[0m                 \u001b[0;31m# re-raise KeyboardInterrupt, to truncate traceback\u001b[0m\u001b[0;34m\u001b[0m\u001b[0;34m\u001b[0m\u001b[0;34m\u001b[0m\u001b[0m\n\u001b[0;32m--> 734\u001b[0;31m                 \u001b[0;32mraise\u001b[0m \u001b[0mKeyboardInterrupt\u001b[0m\u001b[0;34m\u001b[0m\u001b[0;34m\u001b[0m\u001b[0m\n\u001b[0m\u001b[1;32m    735\u001b[0m             \u001b[0;32melse\u001b[0m\u001b[0;34m:\u001b[0m\u001b[0;34m\u001b[0m\u001b[0;34m\u001b[0m\u001b[0m\n\u001b[1;32m    736\u001b[0m                 \u001b[0;32mbreak\u001b[0m\u001b[0;34m\u001b[0m\u001b[0;34m\u001b[0m\u001b[0m\n",
            "\u001b[0;31mKeyboardInterrupt\u001b[0m: "
          ]
        }
      ]
    }
  ]
}