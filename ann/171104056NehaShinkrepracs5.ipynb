{
  "nbformat": 4,
  "nbformat_minor": 0,
  "metadata": {
    "colab": {
      "name": "171104056NehaShinkrepracs5.ipynb",
      "provenance": [],
      "collapsed_sections": []
    },
    "kernelspec": {
      "name": "python3",
      "display_name": "Python 3"
    }
  },
  "cells": [
    {
      "cell_type": "code",
      "metadata": {
        "id": "UXoV5csrAsag"
      },
      "source": [
        "#hebbian learmimg rule"
      ],
      "execution_count": 38,
      "outputs": []
    },
    {
      "cell_type": "code",
      "metadata": {
        "id": "DIczuZXLB49w"
      },
      "source": [
        "import numpy as np\n",
        "w=np.array([1,-1,0,0.5])\n",
        "x1=np.array([1,-2,1.5,0])\n",
        "x2=np.array([1,-0.5,-2,-1.5])\n",
        "x3=np.array([0,1,-1,1.5])\n"
      ],
      "execution_count": 39,
      "outputs": []
    },
    {
      "cell_type": "code",
      "metadata": {
        "id": "wIo9JtDNCdiI"
      },
      "source": [
        "def cal(x,w):\n",
        "  op1=x*w\n",
        "  i=0\n",
        "  y=0\n",
        "  while i!=len(op1):\n",
        "    y=y+op1[i]\n",
        "    i=i+1\n",
        "  if y>=0:\n",
        "    o1=1\n",
        "  else:\n",
        "    o1=-1\n",
        "  return o1  \n",
        "\n",
        "def hebian(w,x):\n",
        "    op=cal(x,w)\n",
        "    a=1*op*x      \n",
        "    w=w+a\n",
        "    print(w)\n",
        "    return w  "
      ],
      "execution_count": 40,
      "outputs": []
    },
    {
      "cell_type": "code",
      "metadata": {
        "id": "M6Kux1FBC_Zd",
        "outputId": "0fc7cbbd-9e54-4c40-e2fb-a6415c523471",
        "colab": {
          "base_uri": "https://localhost:8080/"
        }
      },
      "source": [
        "print(\"w2,w3,w4 are as follows:\")\n",
        "w2=hebian(w,x1)\n",
        "w3=hebian(w2,x2)\n",
        "w4=hebian(w3,x3)\n",
        "\n"
      ],
      "execution_count": 41,
      "outputs": [
        {
          "output_type": "stream",
          "text": [
            "w2,w3,w4 are as follows:\n",
            "[ 2.  -3.   1.5  0.5]\n",
            "[ 1.  -2.5  3.5  2. ]\n",
            "[ 1.  -3.5  4.5  0.5]\n"
          ],
          "name": "stdout"
        }
      ]
    }
  ]
}