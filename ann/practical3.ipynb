{
  "nbformat": 4,
  "nbformat_minor": 0,
  "metadata": {
    "colab": {
      "name": "171104056NehaShinkre_practical3.ipynb",
      "provenance": [],
      "collapsed_sections": []
    },
    "kernelspec": {
      "name": "python3",
      "display_name": "Python 3"
    }
  },
  "cells": [
    {
      "cell_type": "code",
      "metadata": {
        "id": "A_WONGkEFhv7",
        "outputId": "847de0ca-3c63-4b1d-a50f-7baeba2a901e",
        "colab": {
          "base_uri": "https://localhost:8080/"
        }
      },
      "source": [
        "import numpy as np\n",
        "import matplotlib.pyplot as plt\n",
        "# Binary step bipolar\n",
        "\n",
        "x=np.array([1,0,-2])\n",
        "w=np.array([1,1,2])\n",
        "a=x*(w)\n",
        "i=0\n",
        "y=0\n",
        "while i!=len(a):\n",
        "  y=y+a[i]\n",
        "  i=i+1\n",
        "print(\"net\",y) \n",
        "\n",
        "if y>=0:\n",
        "  o=1\n",
        "else:\n",
        "  o=-1 \n",
        "\n",
        "print(\"o/p of bipolar signum\",o)\n"
      ],
      "execution_count": 5,
      "outputs": [
        {
          "output_type": "stream",
          "text": [
            "net -3\n",
            "o/p of bipolar signum -1\n"
          ],
          "name": "stdout"
        }
      ]
    },
    {
      "cell_type": "code",
      "metadata": {
        "id": "_2FNUhl9Laau",
        "outputId": "cf54a88c-172f-49f7-acc2-77332db1bdcd",
        "colab": {
          "base_uri": "https://localhost:8080/"
        }
      },
      "source": [
        "import math\n",
        "o=(2 / (1 + math.exp(-2*y)) - 1)          #bipolar sigmoidal\n",
        "print(\"bipolar sigmoidal\",o)\n"
      ],
      "execution_count": 6,
      "outputs": [
        {
          "output_type": "stream",
          "text": [
            "bipolar sigmoidal -0.9950547536867305\n"
          ],
          "name": "stdout"
        }
      ]
    },
    {
      "cell_type": "code",
      "metadata": {
        "id": "RNlwrBh-M52p",
        "outputId": "956d0496-1897-4a82-a43a-8d5abcb9d527",
        "colab": {
          "base_uri": "https://localhost:8080/"
        }
      },
      "source": [
        "import math\n",
        "print(\"net\",y)\n",
        "o1=min(1,max(0,y)) #unipolar piecewise linear\n",
        "o=min(1,max(-1,y)) #bipolar piecewise linear\n",
        "print(\"unipolar piecewise linear\",o1)\n",
        "print(\"bipolar piecewise linear\",o)\n"
      ],
      "execution_count": 7,
      "outputs": [
        {
          "output_type": "stream",
          "text": [
            "net -3\n",
            "unipolar piecewise linear 0\n",
            "bipolar piecewise linear -1\n"
          ],
          "name": "stdout"
        }
      ]
    },
    {
      "cell_type": "code",
      "metadata": {
        "id": "FT16UqdfKv5Y"
      },
      "source": [
        ""
      ],
      "execution_count": null,
      "outputs": []
    }
  ]
}